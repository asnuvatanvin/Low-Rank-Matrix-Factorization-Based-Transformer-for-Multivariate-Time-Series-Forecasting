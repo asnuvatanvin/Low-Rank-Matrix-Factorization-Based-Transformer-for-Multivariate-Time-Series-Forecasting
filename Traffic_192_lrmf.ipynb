{
  "metadata": {
    "colab": {
      "machine_shape": "hm",
      "provenance": [],
      "gpuType": "T4"
    },
    "kernelspec": {
      "name": "python3",
      "display_name": "Python 3"
    },
    "language_info": {
      "name": "python",
      "version": "3.10.13",
      "mimetype": "text/x-python",
      "codemirror_mode": {
        "name": "ipython",
        "version": 3
      },
      "pygments_lexer": "ipython3",
      "nbconvert_exporter": "python",
      "file_extension": ".py"
    },
    "kaggle": {
      "accelerator": "nvidiaTeslaT4",
      "dataSources": [
        {
          "sourceId": 7873466,
          "sourceType": "datasetVersion",
          "datasetId": 2933516
        }
      ],
      "dockerImageVersionId": 30733,
      "isInternetEnabled": true,
      "language": "python",
      "sourceType": "notebook",
      "isGpuEnabled": true
    },
    "accelerator": "GPU"
  },
  "nbformat_minor": 0,
  "nbformat": 4,
  "cells": [
    {
      "cell_type": "code",
      "source": [
        "from google.colab import drive\n",
        "drive.mount('/content/drive')"
      ],
      "metadata": {
        "id": "8CjebQJxDNsD",
        "outputId": "9a62f238-1552-4839-8c2e-273ccfc967f6",
        "execution": {
          "iopub.status.busy": "2024-07-09T13:45:36.288398Z",
          "iopub.execute_input": "2024-07-09T13:45:36.288709Z",
          "iopub.status.idle": "2024-07-09T13:45:39.632065Z",
          "shell.execute_reply.started": "2024-07-09T13:45:36.288673Z",
          "shell.execute_reply": "2024-07-09T13:45:39.631051Z"
        },
        "trusted": true,
        "colab": {
          "base_uri": "https://localhost:8080/"
        }
      },
      "execution_count": null,
      "outputs": [
        {
          "output_type": "stream",
          "name": "stdout",
          "text": [
            "Mounted at /content/drive\n"
          ]
        }
      ]
    },
    {
      "cell_type": "code",
      "source": [
        "# Clear cache log\n",
        "#get_ipython().run_line_magic('reset', '')\n",
        "\n",
        "# Remove saved weights\n",
        "import os\n",
        "import shutil\n",
        "if os.path.exists('checkpoint.pth'):\n",
        "    os.remove('checkpoint.pth')\n",
        "    print(\"Saved weights removed.\")\n",
        "else:\n",
        "    print(\"No saved weights found.\")\n",
        "\n",
        "# Clear any other temporary files or directories\n",
        "shutil.rmtree('/content/__pycache__', ignore_errors=True)\n",
        "print(\"Cache cleared.\")"
      ],
      "metadata": {
        "colab": {
          "base_uri": "https://localhost:8080/"
        },
        "id": "65ZgwJlpsgXI",
        "outputId": "28bb2e79-af5a-4e52-92bd-6b8206418746"
      },
      "execution_count": null,
      "outputs": [
        {
          "output_type": "stream",
          "name": "stdout",
          "text": [
            "No saved weights found.\n",
            "Cache cleared.\n"
          ]
        }
      ]
    },
    {
      "cell_type": "code",
      "source": [
        "import torch\n",
        "import torch.nn as nn\n",
        "from torch.utils.data import TensorDataset, DataLoader\n",
        "import torch.optim as optim\n",
        "import torch.optim.lr_scheduler as lr_scheduler\n",
        "import torch.utils.data as data\n",
        "import math\n",
        "import copy\n",
        "import itertools\n",
        "import pandas as pd\n",
        "import numpy as np\n",
        "import seaborn as sns\n",
        "from matplotlib import pyplot as plt\n",
        "import time"
      ],
      "metadata": {
        "id": "oAyppnpiBYcP",
        "execution": {
          "iopub.status.busy": "2024-07-09T13:45:32.048978Z",
          "iopub.execute_input": "2024-07-09T13:45:32.052046Z",
          "iopub.status.idle": "2024-07-09T13:45:35.585505Z",
          "shell.execute_reply.started": "2024-07-09T13:45:32.051987Z",
          "shell.execute_reply": "2024-07-09T13:45:35.584546Z"
        },
        "trusted": true
      },
      "execution_count": null,
      "outputs": []
    },
    {
      "cell_type": "code",
      "source": [
        "np.random.seed(42)\n",
        "torch.manual_seed(42)\n",
        "torch.cuda.manual_seed(42)\n",
        "torch.backends.cudnn.deterministic = True\n",
        "torch.backends.cudnn.benchmark = False"
      ],
      "metadata": {
        "id": "ghZqAK3XttAL"
      },
      "execution_count": null,
      "outputs": []
    },
    {
      "cell_type": "code",
      "source": [
        "class LinearLayer(nn.Module):\n",
        "\n",
        "    def __init__(self, input_dim, output_dim):\n",
        "        super(LinearLayer, self).__init__()\n",
        "        self.linear = nn.Sequential(\n",
        "        nn.Linear(input_dim, output_dim),\n",
        "        nn.LeakyReLU(inplace=True))\n",
        "\n",
        "    def forward(self, x):\n",
        "        x = self.linear(x)\n",
        "        return x"
      ],
      "metadata": {
        "id": "FeI2mRLUBgD_",
        "execution": {
          "iopub.status.busy": "2024-07-09T13:45:35.587324Z",
          "iopub.execute_input": "2024-07-09T13:45:35.587717Z",
          "iopub.status.idle": "2024-07-09T13:45:35.593399Z",
          "shell.execute_reply.started": "2024-07-09T13:45:35.587687Z",
          "shell.execute_reply": "2024-07-09T13:45:35.592510Z"
        },
        "trusted": true
      },
      "execution_count": null,
      "outputs": []
    },
    {
      "cell_type": "code",
      "source": [
        "class AutoEncoder(nn.Module):\n",
        "    def __init__(self, input_dim, output_dim):\n",
        "        super().__init__()\n",
        "        self.encoder = nn.Sequential(\n",
        "            nn.Linear(input_dim, 512),\n",
        "            nn.ReLU(),\n",
        "            nn.Linear(512, output_dim)\n",
        "        )\n",
        "\n",
        "    def forward(self, x):\n",
        "        return self.encoder(x)"
      ],
      "metadata": {
        "id": "FqH1AtZ3Vp4Y"
      },
      "execution_count": null,
      "outputs": []
    },
    {
      "cell_type": "markdown",
      "source": [
        "# **Transformer Architecture**"
      ],
      "metadata": {
        "id": "iycpErWLBkJT"
      }
    },
    {
      "cell_type": "markdown",
      "source": [
        "**Positional Encoding**"
      ],
      "metadata": {
        "id": "jtEf_S8eBrk-"
      }
    },
    {
      "cell_type": "code",
      "source": [
        "class PositionalEncoding(nn.Module):\n",
        "    def __init__(self, d_model, seq_length):\n",
        "        super(PositionalEncoding, self).__init__()\n",
        "        self.d_model = d_model\n",
        "        self.seq_length = seq_length\n",
        "\n",
        "        #Create matrix of shape (seq_len, d_model)\n",
        "        pe = torch.zeros(seq_length, d_model)\n",
        "        #Create a vector of shape (seq_len,1)\n",
        "        position = torch.arange(0, seq_length, dtype=torch.float).unsqueeze(1)\n",
        "        div_term = torch.exp(torch.arange(0, d_model, 2).float() * -(math.log(10000.0) / d_model))\n",
        "\n",
        "        #Apply the sine to even position(every vector will have sine only in the even position)\n",
        "        pe[:, 0::2] = torch.sin(position * div_term)\n",
        "        #Apply the cosine to even position(every vector will have cosine only in the even position)\n",
        "        pe[:, 1::2] = torch.cos(position * div_term)\n",
        "\n",
        "\n",
        "        self.register_buffer('pe', pe.unsqueeze(0)) # pe shape (1, seq_len, d_model)\n",
        "\n",
        "    def forward(self, x):\n",
        "        return x + self.pe[:, :x.size(1), :]"
      ],
      "metadata": {
        "id": "WSGpHxxlBpab",
        "execution": {
          "iopub.status.busy": "2024-07-09T13:45:35.594333Z",
          "iopub.execute_input": "2024-07-09T13:45:35.594582Z",
          "iopub.status.idle": "2024-07-09T13:45:35.606269Z",
          "shell.execute_reply.started": "2024-07-09T13:45:35.594559Z",
          "shell.execute_reply": "2024-07-09T13:45:35.605494Z"
        },
        "trusted": true
      },
      "execution_count": null,
      "outputs": []
    },
    {
      "cell_type": "code",
      "source": [
        "class FixedEmbedding(nn.Module):\n",
        "    def __init__(self, c_in, d_model):\n",
        "        super(FixedEmbedding, self).__init__()\n",
        "\n",
        "        w = torch.zeros(c_in, d_model).float()\n",
        "        w.require_grad = False\n",
        "\n",
        "        position = torch.arange(0, c_in).float().unsqueeze(1)\n",
        "        div_term = (torch.arange(0, d_model, 2).float() * -(math.log(10000.0) / d_model)).exp()\n",
        "\n",
        "        w[:, 0::2] = torch.sin(position * div_term)\n",
        "        w[:, 1::2] = torch.cos(position * div_term)\n",
        "\n",
        "        self.emb = nn.Embedding(c_in, d_model)\n",
        "        self.emb.weight = nn.Parameter(w, requires_grad=False)\n",
        "\n",
        "    def forward(self, x):\n",
        "        return self.emb(x).detach()"
      ],
      "metadata": {
        "id": "rbJdp7NgHgwd",
        "execution": {
          "iopub.status.busy": "2024-07-09T13:45:35.607383Z",
          "iopub.execute_input": "2024-07-09T13:45:35.607733Z",
          "iopub.status.idle": "2024-07-09T13:45:35.616212Z",
          "shell.execute_reply.started": "2024-07-09T13:45:35.607702Z",
          "shell.execute_reply": "2024-07-09T13:45:35.615254Z"
        },
        "trusted": true
      },
      "execution_count": null,
      "outputs": []
    },
    {
      "cell_type": "code",
      "source": [
        "class TemporalEmbedding(nn.Module):\n",
        "    def __init__(self, d_model):\n",
        "        super(TemporalEmbedding, self).__init__()\n",
        "\n",
        "        hours = 24\n",
        "        weekdays = 7\n",
        "        months = 13\n",
        "        weeks = 54\n",
        "\n",
        "        Embed = FixedEmbedding\n",
        "\n",
        "        self.hour_embed = Embed(hours, d_model)\n",
        "        self.weekday_embed = Embed(weekdays, d_model)\n",
        "        self.week_embed = Embed(weeks, d_model)\n",
        "        self.month_embed = Embed(months, d_model)\n",
        "\n",
        "    def forward(self, x):\n",
        "        x = x.long()\n",
        "\n",
        "        hour_x = self.hour_embed(x[:,:,3])\n",
        "        weekday_x = self.weekday_embed(x[:,:,4])\n",
        "        week_x = self.week_embed(x[:,:,2])\n",
        "        month_x = self.month_embed(x[:,:,1])\n",
        "\n",
        "        return hour_x + weekday_x + week_x + month_x"
      ],
      "metadata": {
        "id": "vKL_DwyPG80k",
        "execution": {
          "iopub.status.busy": "2024-07-09T13:45:35.618731Z",
          "iopub.execute_input": "2024-07-09T13:45:35.619046Z",
          "iopub.status.idle": "2024-07-09T13:45:35.630072Z",
          "shell.execute_reply.started": "2024-07-09T13:45:35.619016Z",
          "shell.execute_reply": "2024-07-09T13:45:35.629335Z"
        },
        "trusted": true
      },
      "execution_count": null,
      "outputs": []
    },
    {
      "cell_type": "code",
      "source": [
        "class DataEmbedding(nn.Module):\n",
        "    def __init__(self, d_model, seq_length, dropout=0.1):\n",
        "        super(DataEmbedding, self).__init__()\n",
        "\n",
        "        self.position_embedding = PositionalEncoding(d_model, seq_length)\n",
        "        self.temporal_embedding = TemporalEmbedding(d_model)\n",
        "\n",
        "        self.dropout = nn.Dropout(p=dropout)\n",
        "\n",
        "    def forward(self, x, x_mark):\n",
        "        x = self.position_embedding(x) + self.temporal_embedding(x_mark)\n",
        "\n",
        "        return self.dropout(x)\n"
      ],
      "metadata": {
        "id": "E8d4TH4yGiqU",
        "execution": {
          "iopub.status.busy": "2024-07-09T13:45:35.631140Z",
          "iopub.execute_input": "2024-07-09T13:45:35.631425Z",
          "iopub.status.idle": "2024-07-09T13:45:35.640415Z",
          "shell.execute_reply.started": "2024-07-09T13:45:35.631403Z",
          "shell.execute_reply": "2024-07-09T13:45:35.639702Z"
        },
        "trusted": true
      },
      "execution_count": null,
      "outputs": []
    },
    {
      "cell_type": "markdown",
      "source": [
        "**Layer Normalization**"
      ],
      "metadata": {
        "id": "FmRSaC6dBys4"
      }
    },
    {
      "cell_type": "code",
      "source": [
        "class LayerNormalization(nn.Module):\n",
        "\n",
        "    def __init__(self, eps:float = 10**-6):\n",
        "        super().__init__()\n",
        "        self.eps = eps\n",
        "        self.alpha = nn.Parameter(torch.ones(1)) #multiplied\n",
        "        self.bias = nn.Parameter(torch.zeros(1)) #added\n",
        "\n",
        "    def forward(self,x):\n",
        "        mean = x.mean(dim = -1, keepdim = True)\n",
        "        std = x.std(dim = -1, keepdim = True)\n",
        "        return self.alpha * ( x - mean) / (std + self.eps) + self.bias"
      ],
      "metadata": {
        "id": "Nevs3Rv_B1pd",
        "execution": {
          "iopub.status.busy": "2024-07-09T13:45:35.641410Z",
          "iopub.execute_input": "2024-07-09T13:45:35.641700Z",
          "iopub.status.idle": "2024-07-09T13:45:35.650360Z",
          "shell.execute_reply.started": "2024-07-09T13:45:35.641671Z",
          "shell.execute_reply": "2024-07-09T13:45:35.649556Z"
        },
        "trusted": true
      },
      "execution_count": null,
      "outputs": []
    },
    {
      "cell_type": "markdown",
      "source": [
        "**Feed Forward Block**"
      ],
      "metadata": {
        "id": "Bu1MsN3cB6st"
      }
    },
    {
      "cell_type": "code",
      "source": [
        "class FeedForwardSubLayer(nn.Module):\n",
        "    def __init__(self, d_model, d_ff):\n",
        "        super(FeedForwardSubLayer, self).__init__()\n",
        "        self.fc1 = nn.Linear(d_model, d_ff)\n",
        "        self.fc2 = nn.Linear(d_ff, d_model)\n",
        "        self.relu = nn.LeakyReLU()\n",
        "\n",
        "    def forward(self, x):\n",
        "        #(batch, seq_len, d_model) -> (batch, seq_len, d_ff) -> (batch, seq_len, d_model)\n",
        "        return self.fc2(self.relu(self.fc1(x)))"
      ],
      "metadata": {
        "id": "-Kye68KxB5uJ",
        "execution": {
          "iopub.status.busy": "2024-07-09T13:45:35.651236Z",
          "iopub.execute_input": "2024-07-09T13:45:35.651477Z",
          "iopub.status.idle": "2024-07-09T13:45:35.663329Z",
          "shell.execute_reply.started": "2024-07-09T13:45:35.651456Z",
          "shell.execute_reply": "2024-07-09T13:45:35.662444Z"
        },
        "trusted": true
      },
      "execution_count": null,
      "outputs": []
    },
    {
      "cell_type": "code",
      "source": [
        "class LowRankFeedForward(nn.Module):\n",
        "    def __init__(self, d_model, d_ff, rank):\n",
        "        super().__init__()\n",
        "        self.w1a = nn.Linear(d_model, rank, bias=False)\n",
        "        self.w1b = nn.Linear(rank, d_ff, bias=True)\n",
        "        self.w2a = nn.Linear(d_ff, rank, bias=False)\n",
        "        self.w2b = nn.Linear(rank, d_model, bias=True)\n",
        "        self.activation = nn.ReLU()\n",
        "\n",
        "    def forward(self, x):\n",
        "        x = self.w1b(self.w1a(x))\n",
        "        x = self.activation(x)\n",
        "        x = self.w2b(self.w2a(x))\n",
        "        return x"
      ],
      "metadata": {
        "execution": {
          "iopub.status.busy": "2024-07-09T13:45:35.664387Z",
          "iopub.execute_input": "2024-07-09T13:45:35.664973Z",
          "iopub.status.idle": "2024-07-09T13:45:35.673022Z",
          "shell.execute_reply.started": "2024-07-09T13:45:35.664948Z",
          "shell.execute_reply": "2024-07-09T13:45:35.672170Z"
        },
        "trusted": true,
        "id": "oo6hxUBWsB91"
      },
      "execution_count": null,
      "outputs": []
    },
    {
      "cell_type": "markdown",
      "source": [
        "**Multihead Attention**"
      ],
      "metadata": {
        "id": "8Nm7llPfCF3i"
      }
    },
    {
      "cell_type": "code",
      "source": [
        "class MultiHeadAttention(nn.Module):\n",
        "    def __init__(self, d_model, num_heads, rank):\n",
        "        super(MultiHeadAttention, self).__init__()\n",
        "        assert d_model % num_heads == 0, \"d_model must be divisible by number of heads\"\n",
        "\n",
        "        self.d_model = d_model\n",
        "        self.h = num_heads\n",
        "        self.d_k = self.d_model // self.h\n",
        "        self.rank = rank\n",
        "\n",
        "        # Low-rank factorization matrices\n",
        "        self.U_q = nn.Linear(d_model, rank, bias=False)\n",
        "        self.V_q = nn.Linear(rank, d_model, bias=False)\n",
        "        self.U_k = nn.Linear(d_model, rank, bias=False)\n",
        "        self.V_k = nn.Linear(rank, d_model, bias=False)\n",
        "        self.U_v = nn.Linear(d_model, rank, bias=False)\n",
        "        self.V_v = nn.Linear(rank, d_model, bias=False)\n",
        "\n",
        "        # Low-rank factorization for w_o\n",
        "        self.U_o = nn.Linear(d_model, rank, bias=False)\n",
        "        self.V_o = nn.Linear(rank, d_model, bias=False)\n",
        "\n",
        "    def compute_attention(self, query, key, mask=None):\n",
        "        scores = torch.matmul(query, key.transpose(-2, -1)) / math.sqrt(self.d_k)\n",
        "        if mask is not None:\n",
        "            scores = scores.masked_fill(mask == 0, float(\"-1e9\"))\n",
        "        attention_weights = torch.softmax(scores, dim=-1)\n",
        "        return attention_weights\n",
        "\n",
        "    def split_heads(self, x, batch_size):\n",
        "        x = x.view(batch_size, -1, self.h, self.d_k)\n",
        "        return x.permute(0, 2, 1, 3).contiguous()\n",
        "\n",
        "    def forward(self, query, key, value, mask=None):\n",
        "        batch_size = query.size(0)\n",
        "\n",
        "        # Apply low-rank factorization and split heads\n",
        "        query = self.split_heads(self.V_q(self.U_q(query)), batch_size)\n",
        "        key = self.split_heads(self.V_k(self.U_k(key)), batch_size)\n",
        "        value = self.split_heads(self.V_v(self.U_v(value)), batch_size)\n",
        "\n",
        "        # Perform scaled dot-product attention\n",
        "        attention_weights = self.compute_attention(query, key, mask)\n",
        "        output = torch.matmul(attention_weights, value)\n",
        "\n",
        "        output = output.transpose(1, 2).contiguous().view(output.shape[0], -1, self.h * self.d_k)\n",
        "\n",
        "        # Apply low-rank factorization for w_o\n",
        "        output = self.V_o(self.U_o(output))\n",
        "\n",
        "        return output"
      ],
      "metadata": {
        "id": "4ReoCmRvB5wj",
        "execution": {
          "iopub.status.busy": "2024-07-09T13:45:35.674278Z",
          "iopub.execute_input": "2024-07-09T13:45:35.674700Z",
          "iopub.status.idle": "2024-07-09T13:45:35.688858Z",
          "shell.execute_reply.started": "2024-07-09T13:45:35.674670Z",
          "shell.execute_reply": "2024-07-09T13:45:35.688066Z"
        },
        "trusted": true
      },
      "execution_count": null,
      "outputs": []
    },
    {
      "cell_type": "markdown",
      "source": [
        "**Residual Connection**"
      ],
      "metadata": {
        "id": "jXYT2YmWCNW5"
      }
    },
    {
      "cell_type": "code",
      "source": [
        "class ResidualConnection(nn.Module):\n",
        "\n",
        "    def __init__(self, dropout):\n",
        "        super().__init__()\n",
        "        self.dropout = nn.Dropout(dropout)\n",
        "        self.norm = LayerNormalization()\n",
        "\n",
        "    def forward(self, x, sublayer):\n",
        "        return x+self.dropout(sublayer(self.norm(x)))"
      ],
      "metadata": {
        "id": "zG13ttWvCRJY",
        "execution": {
          "iopub.status.busy": "2024-07-09T13:45:35.689930Z",
          "iopub.execute_input": "2024-07-09T13:45:35.690450Z",
          "iopub.status.idle": "2024-07-09T13:45:35.701548Z",
          "shell.execute_reply.started": "2024-07-09T13:45:35.690421Z",
          "shell.execute_reply": "2024-07-09T13:45:35.700814Z"
        },
        "trusted": true
      },
      "execution_count": null,
      "outputs": []
    },
    {
      "cell_type": "markdown",
      "source": [
        "**Encoder**"
      ],
      "metadata": {
        "id": "Cm5c0cSHCUrC"
      }
    },
    {
      "cell_type": "code",
      "source": [
        "# Complete the initialization of elements in the encoder layer\n",
        "class EncoderLayer(nn.Module):\n",
        "    def __init__(self, d_model, num_heads, d_ff, dropout, rank1, rank2):\n",
        "        super(EncoderLayer, self).__init__()\n",
        "        self.self_attn = MultiHeadAttention(d_model, num_heads, rank1)\n",
        "        #self.feed_forward = FeedForwardSubLayer(d_model, d_ff)\n",
        "        self.low_rank_ffn = LowRankFeedForward(d_model, d_ff, rank2)\n",
        "        self.norm1 = nn.LayerNorm(d_model)\n",
        "        self.norm2 = nn.LayerNorm(d_model)\n",
        "        self.dropout = nn.Dropout(dropout)\n",
        "\n",
        "    def forward(self, x, mask=None):\n",
        "        attn_output = self.self_attn(x, x, x, mask)\n",
        "        #multihead attention output added with residual layer output\n",
        "        x = self.norm1(x + self.dropout(attn_output))\n",
        "         #multihead attention output added with residual layer output\n",
        "        ff_output = self.low_rank_ffn(x)\n",
        "        return self.norm2(x + self.dropout(ff_output))"
      ],
      "metadata": {
        "id": "eWm9x2LqCWvs",
        "execution": {
          "iopub.status.busy": "2024-07-09T13:45:35.702464Z",
          "iopub.execute_input": "2024-07-09T13:45:35.702726Z",
          "iopub.status.idle": "2024-07-09T13:45:35.711418Z",
          "shell.execute_reply.started": "2024-07-09T13:45:35.702703Z",
          "shell.execute_reply": "2024-07-09T13:45:35.710757Z"
        },
        "trusted": true
      },
      "execution_count": null,
      "outputs": []
    },
    {
      "cell_type": "code",
      "source": [
        "class TransformerEncoder(nn.Module):\n",
        "        def __init__(self, d_model, num_layers, num_heads, d_ff, dropout, rank1, rank2, seq_len, n_features):\n",
        "            super(TransformerEncoder, self).__init__()\n",
        "            #self.dimreduction = LinearLayer(n_features, d_model)\n",
        "            self.dimreduction = AutoEncoder(n_features, d_model)\n",
        "            self.positional_encoding = DataEmbedding(d_model, seq_len)\n",
        "            self.layers = nn.ModuleList([EncoderLayer(d_model, num_heads, d_ff, dropout, rank1, rank2) for _ in range(num_layers)])\n",
        "        def forward(self, x, x_date, mask=None):\n",
        "            x = self.dimreduction(x)\n",
        "            x = self.positional_encoding(x, x_date)\n",
        "            for layer in self.layers:\n",
        "                x = layer(x, mask)\n",
        "            return x"
      ],
      "metadata": {
        "id": "LB_ArQSaCYzu",
        "execution": {
          "iopub.status.busy": "2024-07-09T13:45:35.712364Z",
          "iopub.execute_input": "2024-07-09T13:45:35.712607Z",
          "iopub.status.idle": "2024-07-09T13:45:35.724078Z",
          "shell.execute_reply.started": "2024-07-09T13:45:35.712585Z",
          "shell.execute_reply": "2024-07-09T13:45:35.723261Z"
        },
        "trusted": true
      },
      "execution_count": null,
      "outputs": []
    },
    {
      "cell_type": "markdown",
      "source": [
        "**Decoder**"
      ],
      "metadata": {
        "id": "bfl0-FrVCb0w"
      }
    },
    {
      "cell_type": "code",
      "source": [
        "class DecoderLayer(nn.Module):\n",
        "    def __init__(self, d_model, num_heads, d_ff, dropout, rank1, rank2):\n",
        "        super(DecoderLayer, self).__init__()\n",
        "\n",
        "        # Initialize the causal (masked) self-attention and cross-attention\n",
        "        self.self_attn = MultiHeadAttention(d_model, num_heads, rank1)\n",
        "        self.cross_attn = MultiHeadAttention(d_model, num_heads, rank1)\n",
        "        #self.feed_forward = FeedForwardSubLayer(d_model, d_ff)\n",
        "        self.low_rank_ffn = LowRankFeedForward(d_model, d_ff, rank2)\n",
        "        self.norm1 = nn.LayerNorm(d_model)\n",
        "        self.norm2 = nn.LayerNorm(d_model)\n",
        "        self.norm3 = nn.LayerNorm(d_model)\n",
        "        self.dropout = nn.Dropout(dropout)\n",
        "\n",
        "    def forward(self, x, encoder_output, casual_mask, cross_mask=None):\n",
        "        # Pass the necessary arguments to the causal self-attention and cross-attention\n",
        "        self_attn_output = self.self_attn(x, x, x, casual_mask)\n",
        "        x = self.norm1(x + self.dropout(self_attn_output))\n",
        "        cross_attn_output = self.cross_attn(x, encoder_output, encoder_output, cross_mask)\n",
        "        x = self.norm2(x + self.dropout(cross_attn_output))\n",
        "        ff_output = self.low_rank_ffn(x)\n",
        "        x = self.norm3(x + self.dropout(ff_output))\n",
        "        return x"
      ],
      "metadata": {
        "id": "KLoQ68IfCdsR",
        "execution": {
          "iopub.status.busy": "2024-07-09T13:45:35.729158Z",
          "iopub.execute_input": "2024-07-09T13:45:35.729409Z",
          "iopub.status.idle": "2024-07-09T13:45:35.737589Z",
          "shell.execute_reply.started": "2024-07-09T13:45:35.729387Z",
          "shell.execute_reply": "2024-07-09T13:45:35.736783Z"
        },
        "trusted": true
      },
      "execution_count": null,
      "outputs": []
    },
    {
      "cell_type": "code",
      "source": [
        "class TransformerDecoder(nn.Module):\n",
        "    def __init__(self, d_model, num_layers, num_heads, d_ff, dropout, rank1, rank2, trg_len, n_features):\n",
        "        super(TransformerDecoder, self).__init__()\n",
        "\n",
        "        #self.dimred = LinearLayer(n_features, d_model)\n",
        "        self.dimreduction = AutoEncoder(n_features, d_model)\n",
        "        self.dec_posen = DataEmbedding(d_model, trg_len)\n",
        "        self.layers = nn.ModuleList([DecoderLayer(d_model, num_heads, d_ff, dropout, rank1, rank2) for _ in range(num_layers)])\n",
        "\n",
        "    def forward(self, x, x_date, encoder_output, causal_mask, cross_mask=None):\n",
        "        x = self.dimreduction(x)\n",
        "        x = self.dec_posen(x, x_date)\n",
        "        for layer in self.layers:\n",
        "            x = layer(x, encoder_output, causal_mask, cross_mask)\n",
        "\n",
        "        return x\n",
        "        #return torch.ReLU(x, dim=-1)"
      ],
      "metadata": {
        "id": "Wq-DV90cCgDt",
        "execution": {
          "iopub.status.busy": "2024-07-09T13:45:35.738674Z",
          "iopub.execute_input": "2024-07-09T13:45:35.738938Z",
          "iopub.status.idle": "2024-07-09T13:45:35.749522Z",
          "shell.execute_reply.started": "2024-07-09T13:45:35.738916Z",
          "shell.execute_reply": "2024-07-09T13:45:35.748856Z"
        },
        "trusted": true
      },
      "execution_count": null,
      "outputs": []
    },
    {
      "cell_type": "markdown",
      "source": [
        "**Projection Layer**"
      ],
      "metadata": {
        "id": "AFrycvXoCi29"
      }
    },
    {
      "cell_type": "code",
      "source": [
        "class ProjectionLayer(nn.Module):\n",
        "\n",
        "    def __init__(self,d_model,n_features):\n",
        "        super(ProjectionLayer, self).__init__()\n",
        "        self.proj = nn.Linear(d_model, n_features)\n",
        "\n",
        "    def forward(self, x):\n",
        "        # (batch, seq_len, d_model) --> (batch, seq_len, n_features)\n",
        "        return torch.nn.functional.leaky_relu(self.proj(x))"
      ],
      "metadata": {
        "id": "6N8mbzZhClCz",
        "execution": {
          "iopub.status.busy": "2024-07-09T13:45:35.750481Z",
          "iopub.execute_input": "2024-07-09T13:45:35.750766Z",
          "iopub.status.idle": "2024-07-09T13:45:35.758684Z",
          "shell.execute_reply.started": "2024-07-09T13:45:35.750744Z",
          "shell.execute_reply": "2024-07-09T13:45:35.757858Z"
        },
        "trusted": true
      },
      "execution_count": null,
      "outputs": []
    },
    {
      "cell_type": "code",
      "source": [
        "def make_causal_mask(bs, trg_seq_len):\n",
        "\n",
        "    tgt_mask = torch.ones(bs,trg_seq_len).unsqueeze(1).unsqueeze(3).bool()\n",
        "    nopeak_mask = (1 - torch.triu(torch.ones(1, trg_seq_len, trg_seq_len), diagonal=1)).bool()\n",
        "    # mask for decoder that will make all the value in the upper triangular matrix zero so that the decoder input only looks backward\n",
        "    causal_mask = tgt_mask & nopeak_mask # (bs, 1, trg_seq_len, trg_seq_len)\n",
        "\n",
        "    return causal_mask == 0"
      ],
      "metadata": {
        "id": "7F-7g2MkCnXo",
        "execution": {
          "iopub.status.busy": "2024-07-09T13:45:35.759639Z",
          "iopub.execute_input": "2024-07-09T13:45:35.759904Z",
          "iopub.status.idle": "2024-07-09T13:45:35.770986Z",
          "shell.execute_reply.started": "2024-07-09T13:45:35.759882Z",
          "shell.execute_reply": "2024-07-09T13:45:35.770195Z"
        },
        "trusted": true
      },
      "execution_count": null,
      "outputs": []
    },
    {
      "cell_type": "code",
      "source": [
        "class Transformer(nn.Module):\n",
        "    def __init__(self, d_model, num_layers, num_heads, d_ff, dropout, n_features, rank1, rank2, src_seq_len, trg_seq_len):\n",
        "\n",
        "        super(Transformer, self).__init__()\n",
        "        self.encoder = TransformerEncoder(d_model, num_layers, num_heads, d_ff, dropout, rank1, rank2, src_seq_len, n_features)\n",
        "        self.decoder = TransformerDecoder(d_model, num_layers, num_heads, d_ff, dropout, rank1, rank2, trg_seq_len, n_features)\n",
        "        self.projection = ProjectionLayer(d_model, n_features)"
      ],
      "metadata": {
        "id": "fZjS-JWWCr5N",
        "execution": {
          "iopub.status.busy": "2024-07-09T13:45:35.771965Z",
          "iopub.execute_input": "2024-07-09T13:45:35.772306Z",
          "iopub.status.idle": "2024-07-09T13:45:35.781059Z",
          "shell.execute_reply.started": "2024-07-09T13:45:35.772275Z",
          "shell.execute_reply": "2024-07-09T13:45:35.780341Z"
        },
        "trusted": true
      },
      "execution_count": null,
      "outputs": []
    },
    {
      "cell_type": "code",
      "source": [
        "train_batch_size = 32\n",
        "vt_batch_size = 32\n",
        "d_model = 512\n",
        "n_features = 862\n",
        "src_seq_len = 168\n",
        "horizon = 192\n",
        "start_token = 48\n",
        "trg_seq_len = horizon + start_token"
      ],
      "metadata": {
        "id": "O97J9GxHJR5K",
        "execution": {
          "iopub.status.busy": "2024-07-09T13:45:35.782111Z",
          "iopub.execute_input": "2024-07-09T13:45:35.782419Z",
          "iopub.status.idle": "2024-07-09T13:45:35.789777Z",
          "shell.execute_reply.started": "2024-07-09T13:45:35.782388Z",
          "shell.execute_reply": "2024-07-09T13:45:35.788891Z"
        },
        "trusted": true
      },
      "execution_count": null,
      "outputs": []
    },
    {
      "cell_type": "code",
      "source": [
        "model = Transformer(d_model = 512, num_layers = 1, num_heads = 8, d_ff = 2048, dropout = 0.05, n_features = 862, rank1 = 64, rank2 = 64, src_seq_len = 168, trg_seq_len = 240)\n",
        "for p in model.parameters():\n",
        "    if p.dim() > 1:\n",
        "        nn.init.xavier_uniform_(p)"
      ],
      "metadata": {
        "id": "XCLi92FTCtuw",
        "execution": {
          "iopub.status.busy": "2024-07-09T13:45:35.791008Z",
          "iopub.execute_input": "2024-07-09T13:45:35.791586Z",
          "iopub.status.idle": "2024-07-09T13:45:36.013315Z",
          "shell.execute_reply.started": "2024-07-09T13:45:35.791562Z",
          "shell.execute_reply": "2024-07-09T13:45:36.012626Z"
        },
        "trusted": true
      },
      "execution_count": null,
      "outputs": []
    },
    {
      "cell_type": "code",
      "source": [
        "device = torch.device(\"cuda\" if torch.cuda.is_available() else \"cpu\")\n",
        "print(f\"Using {device} device\")\n",
        "model = model.to(device)"
      ],
      "metadata": {
        "id": "Kc503YW0QP0Y",
        "outputId": "d37ac591-add7-4545-d241-b924ea4b15c3",
        "execution": {
          "iopub.status.busy": "2024-07-09T13:45:36.014293Z",
          "iopub.execute_input": "2024-07-09T13:45:36.014563Z",
          "iopub.status.idle": "2024-07-09T13:45:36.256322Z",
          "shell.execute_reply.started": "2024-07-09T13:45:36.014534Z",
          "shell.execute_reply": "2024-07-09T13:45:36.255406Z"
        },
        "trusted": true,
        "colab": {
          "base_uri": "https://localhost:8080/"
        }
      },
      "execution_count": null,
      "outputs": [
        {
          "output_type": "stream",
          "name": "stdout",
          "text": [
            "Using cuda device\n"
          ]
        }
      ]
    },
    {
      "cell_type": "code",
      "source": [
        "!pip install torchinfo"
      ],
      "metadata": {
        "id": "eTtnxttHCvWs",
        "outputId": "deba5036-3c42-4911-fef6-b646f2a12184",
        "execution": {
          "iopub.status.busy": "2024-07-09T13:45:36.257473Z",
          "iopub.execute_input": "2024-07-09T13:45:36.257775Z",
          "iopub.status.idle": "2024-07-09T13:45:36.279191Z",
          "shell.execute_reply.started": "2024-07-09T13:45:36.257750Z",
          "shell.execute_reply": "2024-07-09T13:45:36.278385Z"
        },
        "trusted": true,
        "colab": {
          "base_uri": "https://localhost:8080/"
        }
      },
      "execution_count": null,
      "outputs": [
        {
          "output_type": "stream",
          "name": "stdout",
          "text": [
            "Collecting torchinfo\n",
            "  Downloading torchinfo-1.8.0-py3-none-any.whl.metadata (21 kB)\n",
            "Downloading torchinfo-1.8.0-py3-none-any.whl (23 kB)\n",
            "Installing collected packages: torchinfo\n",
            "Successfully installed torchinfo-1.8.0\n"
          ]
        }
      ]
    },
    {
      "cell_type": "code",
      "source": [
        "from torchinfo import summary\n",
        "summary(model)"
      ],
      "metadata": {
        "colab": {
          "base_uri": "https://localhost:8080/"
        },
        "id": "kCHkLySdxqhZ",
        "outputId": "3f5ea72e-dd1b-47e8-d74c-024420a719f9"
      },
      "execution_count": null,
      "outputs": [
        {
          "output_type": "execute_result",
          "data": {
            "text/plain": [
              "======================================================================\n",
              "Layer (type:depth-idx)                        Param #\n",
              "======================================================================\n",
              "Transformer                                   --\n",
              "├─TransformerEncoder: 1-1                     --\n",
              "│    └─AutoEncoder: 2-1                       --\n",
              "│    │    └─Sequential: 3-1                   704,512\n",
              "│    └─DataEmbedding: 2-2                     --\n",
              "│    │    └─PositionalEncoding: 3-2           --\n",
              "│    │    └─TemporalEmbedding: 3-3            (50,176)\n",
              "│    │    └─Dropout: 3-4                      --\n",
              "│    └─ModuleList: 2-3                        --\n",
              "│    │    └─EncoderLayer: 3-5                 594,432\n",
              "├─TransformerDecoder: 1-2                     --\n",
              "│    └─AutoEncoder: 2-4                       --\n",
              "│    │    └─Sequential: 3-6                   704,512\n",
              "│    └─DataEmbedding: 2-5                     --\n",
              "│    │    └─PositionalEncoding: 3-7           --\n",
              "│    │    └─TemporalEmbedding: 3-8            (50,176)\n",
              "│    │    └─Dropout: 3-9                      --\n",
              "│    └─ModuleList: 2-6                        --\n",
              "│    │    └─DecoderLayer: 3-10                857,600\n",
              "├─ProjectionLayer: 1-3                        --\n",
              "│    └─Linear: 2-7                            442,206\n",
              "======================================================================\n",
              "Total params: 3,403,614\n",
              "Trainable params: 3,303,262\n",
              "Non-trainable params: 100,352\n",
              "======================================================================"
            ]
          },
          "metadata": {},
          "execution_count": 28
        }
      ]
    },
    {
      "cell_type": "markdown",
      "source": [
        "**Data Preparation**"
      ],
      "metadata": {
        "id": "kwP7kKjlDJPL"
      }
    },
    {
      "cell_type": "code",
      "source": [
        "def create_sequences(df, seq_length, horizon):\n",
        "    xs, ys = [], []\n",
        "    i = 0\n",
        "    while i < (len(df) - seq_length - horizon):\n",
        "        x = df.iloc[i:(i + seq_length)].to_numpy(dtype=np.float32)  # Convert to numpy array with float32 dtype\n",
        "        y = df.iloc[(i + seq_length):(i + seq_length + horizon)].to_numpy(dtype=np.float32)  # Convert to numpy array with float32 dtype\n",
        "        xs.append(x)\n",
        "        ys.append(y)\n",
        "        i = i + 1\n",
        "    return np.array(xs), np.array(ys)"
      ],
      "metadata": {
        "id": "yHTGm-nxDIeO",
        "execution": {
          "iopub.status.busy": "2024-07-09T13:45:36.280155Z",
          "iopub.execute_input": "2024-07-09T13:45:36.280411Z",
          "iopub.status.idle": "2024-07-09T13:45:36.287205Z",
          "shell.execute_reply.started": "2024-07-09T13:45:36.280388Z",
          "shell.execute_reply": "2024-07-09T13:45:36.286346Z"
        },
        "trusted": true
      },
      "execution_count": null,
      "outputs": []
    },
    {
      "cell_type": "code",
      "source": [
        "df = pd.read_csv(\"/content/drive/MyDrive/traffic.csv\")\n",
        "print(df.shape)"
      ],
      "metadata": {
        "colab": {
          "base_uri": "https://localhost:8080/"
        },
        "id": "D58uOSTluJqH",
        "outputId": "759ec04b-e9dc-4856-efe3-e8705b136d2b"
      },
      "execution_count": null,
      "outputs": [
        {
          "output_type": "stream",
          "name": "stdout",
          "text": [
            "(17543, 862)\n"
          ]
        }
      ]
    },
    {
      "cell_type": "code",
      "source": [
        "data = {\n",
        "    'timestamp': pd.date_range(start='2015-01-01', periods=len(df), freq='h')\n",
        "}\n",
        "dt = pd.DataFrame(data)\n",
        "dt.timestamp = pd.to_datetime(dt.timestamp,format='%Y')"
      ],
      "metadata": {
        "id": "rLh4c1DXfFZR",
        "execution": {
          "iopub.status.busy": "2024-07-09T13:45:39.633307Z",
          "iopub.execute_input": "2024-07-09T13:45:39.633726Z",
          "iopub.status.idle": "2024-07-09T13:45:39.662394Z",
          "shell.execute_reply.started": "2024-07-09T13:45:39.633691Z",
          "shell.execute_reply": "2024-07-09T13:45:39.661545Z"
        },
        "trusted": true
      },
      "execution_count": null,
      "outputs": []
    },
    {
      "cell_type": "code",
      "source": [
        "print(dt.head)"
      ],
      "metadata": {
        "id": "5HhnR3ugWHMO",
        "outputId": "a3c982d6-462a-4449-c219-be5c8ebc7aa8",
        "execution": {
          "iopub.status.busy": "2024-07-09T13:45:39.663592Z",
          "iopub.execute_input": "2024-07-09T13:45:39.663962Z",
          "iopub.status.idle": "2024-07-09T13:45:39.677935Z",
          "shell.execute_reply.started": "2024-07-09T13:45:39.663926Z",
          "shell.execute_reply": "2024-07-09T13:45:39.676847Z"
        },
        "trusted": true,
        "colab": {
          "base_uri": "https://localhost:8080/"
        }
      },
      "execution_count": null,
      "outputs": [
        {
          "output_type": "stream",
          "name": "stdout",
          "text": [
            "<bound method NDFrame.head of                 timestamp\n",
            "0     2015-01-01 00:00:00\n",
            "1     2015-01-01 01:00:00\n",
            "2     2015-01-01 02:00:00\n",
            "3     2015-01-01 03:00:00\n",
            "4     2015-01-01 04:00:00\n",
            "...                   ...\n",
            "17538 2016-12-31 18:00:00\n",
            "17539 2016-12-31 19:00:00\n",
            "17540 2016-12-31 20:00:00\n",
            "17541 2016-12-31 21:00:00\n",
            "17542 2016-12-31 22:00:00\n",
            "\n",
            "[17543 rows x 1 columns]>\n"
          ]
        }
      ]
    },
    {
      "cell_type": "code",
      "source": [
        "# Extract components\n",
        "dt['month'] = dt.timestamp.dt.month\n",
        "dt['week'] = dt.timestamp.dt.isocalendar().week\n",
        "dt['hour'] = dt.timestamp.dt.hour\n",
        "dt['weekday'] = dt.timestamp.dt.weekday\n",
        "\n",
        "#print(dt['month'].unique())\n",
        "#print(dt['week'].unique())\n",
        "#print(dt['hour'].unique())\n",
        "#print(dt['weekday'].unique())"
      ],
      "metadata": {
        "id": "pPjZfpJZXPRx",
        "execution": {
          "iopub.status.busy": "2024-07-09T13:45:39.679253Z",
          "iopub.execute_input": "2024-07-09T13:45:39.679568Z",
          "iopub.status.idle": "2024-07-09T13:45:39.692580Z",
          "shell.execute_reply.started": "2024-07-09T13:45:39.679533Z",
          "shell.execute_reply": "2024-07-09T13:45:39.691779Z"
        },
        "trusted": true
      },
      "execution_count": null,
      "outputs": []
    },
    {
      "cell_type": "code",
      "source": [
        "dt.drop(columns = ['timestamp'])"
      ],
      "metadata": {
        "id": "MevjNaZVX0oF",
        "outputId": "e49476a6-3dab-4e6d-dba0-e29da9ceeef2",
        "execution": {
          "iopub.status.busy": "2024-07-09T13:45:39.693800Z",
          "iopub.execute_input": "2024-07-09T13:45:39.694112Z",
          "iopub.status.idle": "2024-07-09T13:45:39.712230Z",
          "shell.execute_reply.started": "2024-07-09T13:45:39.694082Z",
          "shell.execute_reply": "2024-07-09T13:45:39.711322Z"
        },
        "trusted": true,
        "colab": {
          "base_uri": "https://localhost:8080/",
          "height": 419
        }
      },
      "execution_count": null,
      "outputs": [
        {
          "output_type": "execute_result",
          "data": {
            "text/plain": [
              "       month  week  hour  weekday\n",
              "0          1     1     0        3\n",
              "1          1     1     1        3\n",
              "2          1     1     2        3\n",
              "3          1     1     3        3\n",
              "4          1     1     4        3\n",
              "...      ...   ...   ...      ...\n",
              "17538     12    52    18        5\n",
              "17539     12    52    19        5\n",
              "17540     12    52    20        5\n",
              "17541     12    52    21        5\n",
              "17542     12    52    22        5\n",
              "\n",
              "[17543 rows x 4 columns]"
            ],
            "text/html": [
              "\n",
              "  <div id=\"df-0ab2d096-5986-4d91-93da-261badc0b046\" class=\"colab-df-container\">\n",
              "    <div>\n",
              "<style scoped>\n",
              "    .dataframe tbody tr th:only-of-type {\n",
              "        vertical-align: middle;\n",
              "    }\n",
              "\n",
              "    .dataframe tbody tr th {\n",
              "        vertical-align: top;\n",
              "    }\n",
              "\n",
              "    .dataframe thead th {\n",
              "        text-align: right;\n",
              "    }\n",
              "</style>\n",
              "<table border=\"1\" class=\"dataframe\">\n",
              "  <thead>\n",
              "    <tr style=\"text-align: right;\">\n",
              "      <th></th>\n",
              "      <th>month</th>\n",
              "      <th>week</th>\n",
              "      <th>hour</th>\n",
              "      <th>weekday</th>\n",
              "    </tr>\n",
              "  </thead>\n",
              "  <tbody>\n",
              "    <tr>\n",
              "      <th>0</th>\n",
              "      <td>1</td>\n",
              "      <td>1</td>\n",
              "      <td>0</td>\n",
              "      <td>3</td>\n",
              "    </tr>\n",
              "    <tr>\n",
              "      <th>1</th>\n",
              "      <td>1</td>\n",
              "      <td>1</td>\n",
              "      <td>1</td>\n",
              "      <td>3</td>\n",
              "    </tr>\n",
              "    <tr>\n",
              "      <th>2</th>\n",
              "      <td>1</td>\n",
              "      <td>1</td>\n",
              "      <td>2</td>\n",
              "      <td>3</td>\n",
              "    </tr>\n",
              "    <tr>\n",
              "      <th>3</th>\n",
              "      <td>1</td>\n",
              "      <td>1</td>\n",
              "      <td>3</td>\n",
              "      <td>3</td>\n",
              "    </tr>\n",
              "    <tr>\n",
              "      <th>4</th>\n",
              "      <td>1</td>\n",
              "      <td>1</td>\n",
              "      <td>4</td>\n",
              "      <td>3</td>\n",
              "    </tr>\n",
              "    <tr>\n",
              "      <th>...</th>\n",
              "      <td>...</td>\n",
              "      <td>...</td>\n",
              "      <td>...</td>\n",
              "      <td>...</td>\n",
              "    </tr>\n",
              "    <tr>\n",
              "      <th>17538</th>\n",
              "      <td>12</td>\n",
              "      <td>52</td>\n",
              "      <td>18</td>\n",
              "      <td>5</td>\n",
              "    </tr>\n",
              "    <tr>\n",
              "      <th>17539</th>\n",
              "      <td>12</td>\n",
              "      <td>52</td>\n",
              "      <td>19</td>\n",
              "      <td>5</td>\n",
              "    </tr>\n",
              "    <tr>\n",
              "      <th>17540</th>\n",
              "      <td>12</td>\n",
              "      <td>52</td>\n",
              "      <td>20</td>\n",
              "      <td>5</td>\n",
              "    </tr>\n",
              "    <tr>\n",
              "      <th>17541</th>\n",
              "      <td>12</td>\n",
              "      <td>52</td>\n",
              "      <td>21</td>\n",
              "      <td>5</td>\n",
              "    </tr>\n",
              "    <tr>\n",
              "      <th>17542</th>\n",
              "      <td>12</td>\n",
              "      <td>52</td>\n",
              "      <td>22</td>\n",
              "      <td>5</td>\n",
              "    </tr>\n",
              "  </tbody>\n",
              "</table>\n",
              "<p>17543 rows × 4 columns</p>\n",
              "</div>\n",
              "    <div class=\"colab-df-buttons\">\n",
              "\n",
              "  <div class=\"colab-df-container\">\n",
              "    <button class=\"colab-df-convert\" onclick=\"convertToInteractive('df-0ab2d096-5986-4d91-93da-261badc0b046')\"\n",
              "            title=\"Convert this dataframe to an interactive table.\"\n",
              "            style=\"display:none;\">\n",
              "\n",
              "  <svg xmlns=\"http://www.w3.org/2000/svg\" height=\"24px\" viewBox=\"0 -960 960 960\">\n",
              "    <path d=\"M120-120v-720h720v720H120Zm60-500h600v-160H180v160Zm220 220h160v-160H400v160Zm0 220h160v-160H400v160ZM180-400h160v-160H180v160Zm440 0h160v-160H620v160ZM180-180h160v-160H180v160Zm440 0h160v-160H620v160Z\"/>\n",
              "  </svg>\n",
              "    </button>\n",
              "\n",
              "  <style>\n",
              "    .colab-df-container {\n",
              "      display:flex;\n",
              "      gap: 12px;\n",
              "    }\n",
              "\n",
              "    .colab-df-convert {\n",
              "      background-color: #E8F0FE;\n",
              "      border: none;\n",
              "      border-radius: 50%;\n",
              "      cursor: pointer;\n",
              "      display: none;\n",
              "      fill: #1967D2;\n",
              "      height: 32px;\n",
              "      padding: 0 0 0 0;\n",
              "      width: 32px;\n",
              "    }\n",
              "\n",
              "    .colab-df-convert:hover {\n",
              "      background-color: #E2EBFA;\n",
              "      box-shadow: 0px 1px 2px rgba(60, 64, 67, 0.3), 0px 1px 3px 1px rgba(60, 64, 67, 0.15);\n",
              "      fill: #174EA6;\n",
              "    }\n",
              "\n",
              "    .colab-df-buttons div {\n",
              "      margin-bottom: 4px;\n",
              "    }\n",
              "\n",
              "    [theme=dark] .colab-df-convert {\n",
              "      background-color: #3B4455;\n",
              "      fill: #D2E3FC;\n",
              "    }\n",
              "\n",
              "    [theme=dark] .colab-df-convert:hover {\n",
              "      background-color: #434B5C;\n",
              "      box-shadow: 0px 1px 3px 1px rgba(0, 0, 0, 0.15);\n",
              "      filter: drop-shadow(0px 1px 2px rgba(0, 0, 0, 0.3));\n",
              "      fill: #FFFFFF;\n",
              "    }\n",
              "  </style>\n",
              "\n",
              "    <script>\n",
              "      const buttonEl =\n",
              "        document.querySelector('#df-0ab2d096-5986-4d91-93da-261badc0b046 button.colab-df-convert');\n",
              "      buttonEl.style.display =\n",
              "        google.colab.kernel.accessAllowed ? 'block' : 'none';\n",
              "\n",
              "      async function convertToInteractive(key) {\n",
              "        const element = document.querySelector('#df-0ab2d096-5986-4d91-93da-261badc0b046');\n",
              "        const dataTable =\n",
              "          await google.colab.kernel.invokeFunction('convertToInteractive',\n",
              "                                                    [key], {});\n",
              "        if (!dataTable) return;\n",
              "\n",
              "        const docLinkHtml = 'Like what you see? Visit the ' +\n",
              "          '<a target=\"_blank\" href=https://colab.research.google.com/notebooks/data_table.ipynb>data table notebook</a>'\n",
              "          + ' to learn more about interactive tables.';\n",
              "        element.innerHTML = '';\n",
              "        dataTable['output_type'] = 'display_data';\n",
              "        await google.colab.output.renderOutput(dataTable, element);\n",
              "        const docLink = document.createElement('div');\n",
              "        docLink.innerHTML = docLinkHtml;\n",
              "        element.appendChild(docLink);\n",
              "      }\n",
              "    </script>\n",
              "  </div>\n",
              "\n",
              "\n",
              "<div id=\"df-479ed7f9-20e0-46f0-8073-02dc7f6a8b63\">\n",
              "  <button class=\"colab-df-quickchart\" onclick=\"quickchart('df-479ed7f9-20e0-46f0-8073-02dc7f6a8b63')\"\n",
              "            title=\"Suggest charts\"\n",
              "            style=\"display:none;\">\n",
              "\n",
              "<svg xmlns=\"http://www.w3.org/2000/svg\" height=\"24px\"viewBox=\"0 0 24 24\"\n",
              "     width=\"24px\">\n",
              "    <g>\n",
              "        <path d=\"M19 3H5c-1.1 0-2 .9-2 2v14c0 1.1.9 2 2 2h14c1.1 0 2-.9 2-2V5c0-1.1-.9-2-2-2zM9 17H7v-7h2v7zm4 0h-2V7h2v10zm4 0h-2v-4h2v4z\"/>\n",
              "    </g>\n",
              "</svg>\n",
              "  </button>\n",
              "\n",
              "<style>\n",
              "  .colab-df-quickchart {\n",
              "      --bg-color: #E8F0FE;\n",
              "      --fill-color: #1967D2;\n",
              "      --hover-bg-color: #E2EBFA;\n",
              "      --hover-fill-color: #174EA6;\n",
              "      --disabled-fill-color: #AAA;\n",
              "      --disabled-bg-color: #DDD;\n",
              "  }\n",
              "\n",
              "  [theme=dark] .colab-df-quickchart {\n",
              "      --bg-color: #3B4455;\n",
              "      --fill-color: #D2E3FC;\n",
              "      --hover-bg-color: #434B5C;\n",
              "      --hover-fill-color: #FFFFFF;\n",
              "      --disabled-bg-color: #3B4455;\n",
              "      --disabled-fill-color: #666;\n",
              "  }\n",
              "\n",
              "  .colab-df-quickchart {\n",
              "    background-color: var(--bg-color);\n",
              "    border: none;\n",
              "    border-radius: 50%;\n",
              "    cursor: pointer;\n",
              "    display: none;\n",
              "    fill: var(--fill-color);\n",
              "    height: 32px;\n",
              "    padding: 0;\n",
              "    width: 32px;\n",
              "  }\n",
              "\n",
              "  .colab-df-quickchart:hover {\n",
              "    background-color: var(--hover-bg-color);\n",
              "    box-shadow: 0 1px 2px rgba(60, 64, 67, 0.3), 0 1px 3px 1px rgba(60, 64, 67, 0.15);\n",
              "    fill: var(--button-hover-fill-color);\n",
              "  }\n",
              "\n",
              "  .colab-df-quickchart-complete:disabled,\n",
              "  .colab-df-quickchart-complete:disabled:hover {\n",
              "    background-color: var(--disabled-bg-color);\n",
              "    fill: var(--disabled-fill-color);\n",
              "    box-shadow: none;\n",
              "  }\n",
              "\n",
              "  .colab-df-spinner {\n",
              "    border: 2px solid var(--fill-color);\n",
              "    border-color: transparent;\n",
              "    border-bottom-color: var(--fill-color);\n",
              "    animation:\n",
              "      spin 1s steps(1) infinite;\n",
              "  }\n",
              "\n",
              "  @keyframes spin {\n",
              "    0% {\n",
              "      border-color: transparent;\n",
              "      border-bottom-color: var(--fill-color);\n",
              "      border-left-color: var(--fill-color);\n",
              "    }\n",
              "    20% {\n",
              "      border-color: transparent;\n",
              "      border-left-color: var(--fill-color);\n",
              "      border-top-color: var(--fill-color);\n",
              "    }\n",
              "    30% {\n",
              "      border-color: transparent;\n",
              "      border-left-color: var(--fill-color);\n",
              "      border-top-color: var(--fill-color);\n",
              "      border-right-color: var(--fill-color);\n",
              "    }\n",
              "    40% {\n",
              "      border-color: transparent;\n",
              "      border-right-color: var(--fill-color);\n",
              "      border-top-color: var(--fill-color);\n",
              "    }\n",
              "    60% {\n",
              "      border-color: transparent;\n",
              "      border-right-color: var(--fill-color);\n",
              "    }\n",
              "    80% {\n",
              "      border-color: transparent;\n",
              "      border-right-color: var(--fill-color);\n",
              "      border-bottom-color: var(--fill-color);\n",
              "    }\n",
              "    90% {\n",
              "      border-color: transparent;\n",
              "      border-bottom-color: var(--fill-color);\n",
              "    }\n",
              "  }\n",
              "</style>\n",
              "\n",
              "  <script>\n",
              "    async function quickchart(key) {\n",
              "      const quickchartButtonEl =\n",
              "        document.querySelector('#' + key + ' button');\n",
              "      quickchartButtonEl.disabled = true;  // To prevent multiple clicks.\n",
              "      quickchartButtonEl.classList.add('colab-df-spinner');\n",
              "      try {\n",
              "        const charts = await google.colab.kernel.invokeFunction(\n",
              "            'suggestCharts', [key], {});\n",
              "      } catch (error) {\n",
              "        console.error('Error during call to suggestCharts:', error);\n",
              "      }\n",
              "      quickchartButtonEl.classList.remove('colab-df-spinner');\n",
              "      quickchartButtonEl.classList.add('colab-df-quickchart-complete');\n",
              "    }\n",
              "    (() => {\n",
              "      let quickchartButtonEl =\n",
              "        document.querySelector('#df-479ed7f9-20e0-46f0-8073-02dc7f6a8b63 button');\n",
              "      quickchartButtonEl.style.display =\n",
              "        google.colab.kernel.accessAllowed ? 'block' : 'none';\n",
              "    })();\n",
              "  </script>\n",
              "</div>\n",
              "\n",
              "    </div>\n",
              "  </div>\n"
            ],
            "application/vnd.google.colaboratory.intrinsic+json": {
              "type": "dataframe",
              "summary": "{\n  \"name\": \"dt\",\n  \"rows\": 17543,\n  \"fields\": [\n    {\n      \"column\": \"month\",\n      \"properties\": {\n        \"dtype\": \"int32\",\n        \"num_unique_values\": 12,\n        \"samples\": [\n          11,\n          10,\n          1\n        ],\n        \"semantic_type\": \"\",\n        \"description\": \"\"\n      }\n    },\n    {\n      \"column\": \"week\",\n      \"properties\": {\n        \"dtype\": \"UInt32\",\n        \"num_unique_values\": 53,\n        \"samples\": [\n          20,\n          42,\n          48\n        ],\n        \"semantic_type\": \"\",\n        \"description\": \"\"\n      }\n    },\n    {\n      \"column\": \"hour\",\n      \"properties\": {\n        \"dtype\": \"int32\",\n        \"num_unique_values\": 24,\n        \"samples\": [\n          8,\n          16,\n          0\n        ],\n        \"semantic_type\": \"\",\n        \"description\": \"\"\n      }\n    },\n    {\n      \"column\": \"weekday\",\n      \"properties\": {\n        \"dtype\": \"int32\",\n        \"num_unique_values\": 7,\n        \"samples\": [\n          3,\n          4,\n          1\n        ],\n        \"semantic_type\": \"\",\n        \"description\": \"\"\n      }\n    }\n  ]\n}"
            }
          },
          "metadata": {},
          "execution_count": 34
        }
      ]
    },
    {
      "cell_type": "code",
      "source": [
        "#Splitting into train-test data\n",
        "def split_data(df, train_portion, vt_div):\n",
        "    train_size = int(len(df) * 0.8)\n",
        "    val_size = int((len(df)-train_size) * 0.5)\n",
        "    train, val, test = df[:train_size], df[train_size:train_size+val_size], df[train_size+val_size:]\n",
        "    print(\"Train shape: \" + str(train.shape) + \" Valid shape: \" + str(val.shape) + \" Test shape: \" + str(test.shape))\n",
        "    return train, val, test\n",
        "\n",
        "\n",
        "train, val, test = split_data(df, 0.8, 0.5)\n",
        "train_time, val_time, test_time = split_data(dt, 0.8, 0.5)"
      ],
      "metadata": {
        "id": "qeHXmHYpEf3M",
        "outputId": "ca65b409-92e4-4921-edd8-8c45adb77e6f",
        "execution": {
          "iopub.status.busy": "2024-07-09T13:45:39.713411Z",
          "iopub.execute_input": "2024-07-09T13:45:39.714116Z",
          "iopub.status.idle": "2024-07-09T13:45:39.722905Z",
          "shell.execute_reply.started": "2024-07-09T13:45:39.714083Z",
          "shell.execute_reply": "2024-07-09T13:45:39.721865Z"
        },
        "trusted": true,
        "colab": {
          "base_uri": "https://localhost:8080/"
        }
      },
      "execution_count": null,
      "outputs": [
        {
          "output_type": "stream",
          "name": "stdout",
          "text": [
            "Train shape: (14034, 862) Valid shape: (1754, 862) Test shape: (1755, 862)\n",
            "Train shape: (14034, 5) Valid shape: (1754, 5) Test shape: (1755, 5)\n"
          ]
        }
      ]
    },
    {
      "cell_type": "code",
      "source": [
        "from sklearn.preprocessing import StandardScaler\n",
        "scaler = StandardScaler()\n",
        "scaler.fit(train)\n",
        "\n",
        "# Transform the data\n",
        "train = pd.DataFrame(scaler.transform(train))\n",
        "val = pd.DataFrame(scaler.transform(val))\n",
        "test = pd.DataFrame(scaler.transform(test))"
      ],
      "metadata": {
        "id": "vg_96O5f0lW2",
        "execution": {
          "iopub.status.busy": "2024-07-09T13:45:39.724419Z",
          "iopub.execute_input": "2024-07-09T13:45:39.724752Z",
          "iopub.status.idle": "2024-07-09T13:45:40.425588Z",
          "shell.execute_reply.started": "2024-07-09T13:45:39.724723Z",
          "shell.execute_reply": "2024-07-09T13:45:40.424585Z"
        },
        "trusted": true
      },
      "execution_count": null,
      "outputs": []
    },
    {
      "cell_type": "markdown",
      "source": [
        "**Standard Deviation Calculation for RSE**"
      ],
      "metadata": {
        "id": "ApEsDhodPtJf"
      }
    },
    {
      "cell_type": "code",
      "source": [
        "testset = test.to_numpy()\n",
        "testset = torch.from_numpy(testset).float()\n",
        "standard_deviation = torch.std(testset)\n",
        "print(standard_deviation)"
      ],
      "metadata": {
        "id": "SceFkC4HFFRF",
        "outputId": "d7e01d72-6797-41a9-8549-97f5ab3ab547",
        "execution": {
          "iopub.status.busy": "2024-07-09T13:45:40.426939Z",
          "iopub.execute_input": "2024-07-09T13:45:40.427545Z",
          "iopub.status.idle": "2024-07-09T13:45:40.466893Z",
          "shell.execute_reply.started": "2024-07-09T13:45:40.427510Z",
          "shell.execute_reply": "2024-07-09T13:45:40.465985Z"
        },
        "trusted": true,
        "colab": {
          "base_uri": "https://localhost:8080/"
        }
      },
      "execution_count": null,
      "outputs": [
        {
          "output_type": "stream",
          "name": "stdout",
          "text": [
            "tensor(1.1049)\n"
          ]
        }
      ]
    },
    {
      "cell_type": "code",
      "source": [
        "X_train, Y_train = create_sequences(train, src_seq_len, horizon)\n",
        "X_val, Y_val = create_sequences(val, src_seq_len, horizon)\n",
        "X_test, Y_test = create_sequences(test, src_seq_len, horizon)\n",
        "X_train_date, Y_train_date = create_sequences(train_time, src_seq_len, horizon)\n",
        "X_val_date, Y_val_date = create_sequences(val_time, src_seq_len, horizon)\n",
        "X_test_date, Y_test_date = create_sequences(test_time, src_seq_len, horizon)"
      ],
      "metadata": {
        "id": "WQmuwCcxEvs_",
        "execution": {
          "iopub.status.busy": "2024-07-09T13:45:40.468075Z",
          "iopub.execute_input": "2024-07-09T13:45:40.468429Z",
          "iopub.status.idle": "2024-07-09T13:45:55.270449Z",
          "shell.execute_reply.started": "2024-07-09T13:45:40.468393Z",
          "shell.execute_reply": "2024-07-09T13:45:55.269690Z"
        },
        "trusted": true
      },
      "execution_count": null,
      "outputs": []
    },
    {
      "cell_type": "code",
      "source": [
        "X_train = torch.from_numpy(X_train).float()\n",
        "Y_train = torch.from_numpy(Y_train).float()\n",
        "X_val = torch.from_numpy(X_val).float()\n",
        "Y_val = torch.from_numpy(Y_val).float()\n",
        "X_test = torch.from_numpy(X_test).float()\n",
        "Y_test = torch.from_numpy(Y_test).float()\n",
        "\n",
        "X_train_date = torch.from_numpy(X_train_date).float()\n",
        "Y_train_date = torch.from_numpy(Y_train_date).float()\n",
        "X_val_date = torch.from_numpy(X_val_date).float()\n",
        "Y_val_date = torch.from_numpy(Y_val_date).float()\n",
        "X_test_date = torch.from_numpy(X_test_date).float()\n",
        "Y_test_date = torch.from_numpy(Y_test_date).float()\n",
        "\n",
        "print(X_train.shape)\n",
        "print(Y_train.shape)\n",
        "print(X_test.shape)\n",
        "print(Y_test.shape)\n",
        "print(X_val.shape)\n",
        "print(Y_val.shape)\n",
        "\n",
        "'''\n",
        "X_train = X_train.to(device)\n",
        "Y_train = Y_train.to(device)\n",
        "X_val = X_val.to(device)\n",
        "Y_val = Y_val.to(device)\n",
        "X_test = X_test.to(device)\n",
        "Y_test = Y_test.to(device)\n",
        "X_train_date = X_train_date.to(device)\n",
        "Y_train_date = Y_train_date.to(device)\n",
        "X_val_date = X_val_date.to(device)\n",
        "Y_val_date = Y_val_date.to(device)\n",
        "X_test_date = X_test_date.to(device)\n",
        "Y_test_date = Y_test_date.to(device)\n",
        "'''\n",
        "\n",
        "print(X_train_date.shape)\n",
        "print(Y_train_date.shape)\n",
        "print(X_test_date.shape)\n",
        "print(Y_test_date.shape)\n",
        "print(X_val_date.shape)\n",
        "print(Y_val_date.shape)"
      ],
      "metadata": {
        "id": "6_04R-xXJKA4",
        "outputId": "a4f3651a-8df1-4b7b-9e94-2aea3af6ce1e",
        "execution": {
          "iopub.status.busy": "2024-07-09T13:45:55.271492Z",
          "iopub.execute_input": "2024-07-09T13:45:55.271771Z",
          "iopub.status.idle": "2024-07-09T13:45:57.099174Z",
          "shell.execute_reply.started": "2024-07-09T13:45:55.271747Z",
          "shell.execute_reply": "2024-07-09T13:45:57.098174Z"
        },
        "trusted": true,
        "colab": {
          "base_uri": "https://localhost:8080/"
        }
      },
      "execution_count": null,
      "outputs": [
        {
          "output_type": "stream",
          "name": "stdout",
          "text": [
            "torch.Size([13674, 168, 862])\n",
            "torch.Size([13674, 192, 862])\n",
            "torch.Size([1395, 168, 862])\n",
            "torch.Size([1395, 192, 862])\n",
            "torch.Size([1394, 168, 862])\n",
            "torch.Size([1394, 192, 862])\n",
            "torch.Size([13674, 168, 5])\n",
            "torch.Size([13674, 192, 5])\n",
            "torch.Size([1395, 168, 5])\n",
            "torch.Size([1395, 192, 5])\n",
            "torch.Size([1394, 168, 5])\n",
            "torch.Size([1394, 192, 5])\n"
          ]
        }
      ]
    },
    {
      "cell_type": "code",
      "source": [
        "train = TensorDataset(X_train, Y_train)\n",
        "train_loader = DataLoader(train, batch_size = train_batch_size, shuffle = False, drop_last = True)\n",
        "val = TensorDataset(X_val, Y_val)\n",
        "val_loader = DataLoader(val, batch_size = vt_batch_size, shuffle = False, drop_last = True)\n",
        "test = TensorDataset(X_test, Y_test)\n",
        "test_loader = DataLoader(test, batch_size = vt_batch_size, shuffle = False, drop_last = True)\n",
        "train_date = TensorDataset(X_train_date, Y_train_date)\n",
        "train_loader_date = DataLoader(train_date, batch_size = train_batch_size, shuffle = False, drop_last = True)\n",
        "val_date = TensorDataset(X_val_date, Y_val_date)\n",
        "val_loader_date = DataLoader(val_date, batch_size = vt_batch_size, shuffle = False, drop_last = True)\n",
        "test_date = TensorDataset(X_test_date, Y_test_date)\n",
        "test_loader_date = DataLoader(test_date, batch_size = vt_batch_size, shuffle = False, drop_last = True)"
      ],
      "metadata": {
        "id": "hOP_3S0iJUKE",
        "execution": {
          "iopub.status.busy": "2024-07-09T13:45:57.100416Z",
          "iopub.execute_input": "2024-07-09T13:45:57.100846Z",
          "iopub.status.idle": "2024-07-09T13:45:57.109534Z",
          "shell.execute_reply.started": "2024-07-09T13:45:57.100811Z",
          "shell.execute_reply": "2024-07-09T13:45:57.108632Z"
        },
        "trusted": true
      },
      "execution_count": null,
      "outputs": []
    },
    {
      "cell_type": "code",
      "source": [
        "from torch.optim.lr_scheduler import _LRScheduler\n",
        "class WarmUpScheduler(_LRScheduler):\n",
        "    def __init__(self, optimizer, warmup_steps, start_lr, base_lr, last_epoch=-1):\n",
        "        self.warmup_steps = warmup_steps\n",
        "        self.start_lr = start_lr\n",
        "        self.base_lr = base_lr\n",
        "        super(WarmUpScheduler, self).__init__(optimizer, last_epoch)\n",
        "\n",
        "    def get_lr(self):\n",
        "        if self.last_epoch < self.warmup_steps:\n",
        "            # Calculate the increase in learning rate per step\n",
        "            lr_increase = (self.base_lr - self.start_lr) / self.warmup_steps\n",
        "            return [self.start_lr + lr_increase * (self.last_epoch + 1) for _ in self.base_lrs]\n",
        "        return [self.base_lr for _ in self.base_lrs]"
      ],
      "metadata": {
        "execution": {
          "iopub.status.busy": "2024-07-09T13:45:57.110711Z",
          "iopub.execute_input": "2024-07-09T13:45:57.111084Z",
          "iopub.status.idle": "2024-07-09T13:45:57.122414Z",
          "shell.execute_reply.started": "2024-07-09T13:45:57.111059Z",
          "shell.execute_reply": "2024-07-09T13:45:57.121691Z"
        },
        "trusted": true,
        "id": "ru--XO-AsB-A"
      },
      "execution_count": null,
      "outputs": []
    },
    {
      "cell_type": "code",
      "source": [
        "from torch.optim.lr_scheduler import ReduceLROnPlateau, ExponentialLR, CosineAnnealingLR\n",
        "start_lr = 0.00001\n",
        "learning_rate = 0.0001\n",
        "num_epochs = 80\n",
        "warmup_steps = 10\n",
        "criterion = nn.MSELoss().to(device)\n",
        "mae = nn.L1Loss().to(device)\n",
        "optimizer = optim.Adam(model.parameters(), lr=start_lr)\n",
        "warmup_scheduler = WarmUpScheduler(optimizer, warmup_steps, start_lr, learning_rate)\n",
        "scheduler = lr_scheduler.StepLR(optimizer, step_size = 2, gamma = 0.8)\n",
        "\n",
        "training_losses = []\n",
        "validation_losses = []\n",
        "\n",
        "causal_mask = make_causal_mask(train_batch_size, trg_seq_len).to(device)\n",
        "\n",
        "start_time = time.time()\n",
        "\n",
        "for epoch in range(num_epochs):\n",
        "    batch_losses = []\n",
        "    for batch1, batch2 in zip(train_loader, train_loader_date):\n",
        "\n",
        "        x_batch, y_batch = batch1\n",
        "        x_date, y_date = batch2\n",
        "\n",
        "        x_batch = x_batch.to(device)\n",
        "        y_batch = y_batch.to(device)\n",
        "\n",
        "        x_date = x_date.to(device)\n",
        "        y_date = y_date.to(device)\n",
        "        encoder_output = model.encoder(x_batch, x_date)\n",
        "\n",
        "        dec_in = np.zeros((train_batch_size, horizon, n_features))\n",
        "        dec_in = torch.from_numpy(dec_in).float()\n",
        "        dec_in = dec_in.to(device)\n",
        "\n",
        "        dec_in = torch.cat((x_batch[:,-start_token:,:], dec_in), dim = 1)\n",
        "        dec_in = dec_in.to(device)\n",
        "\n",
        "        y_date = torch.cat((x_date[:,-start_token:,:], y_date), dim = 1)\n",
        "\n",
        "        outputs = model.decoder(dec_in, y_date, encoder_output, causal_mask)\n",
        "\n",
        "        transformer_output = model.projection(outputs)\n",
        "\n",
        "        transformer_output = transformer_output[:, -horizon: ,:]\n",
        "\n",
        "        optimizer.zero_grad()\n",
        "        loss = criterion(transformer_output, y_batch[:,-horizon:,:])\n",
        "        loss.backward()\n",
        "        # Clip gradients\n",
        "        torch.nn.utils.clip_grad_norm_(model.parameters(), max_norm=1.0)\n",
        "        optimizer.step()\n",
        "        batch_losses.append(loss.item())\n",
        "\n",
        "    warmup_scheduler.step()\n",
        "    training_loss = np.mean(batch_losses)\n",
        "    training_losses.append(training_loss)\n",
        "\n",
        "\n",
        "    with torch.no_grad():\n",
        "        batch_val_losses = []\n",
        "        batch_val_mae = []\n",
        "\n",
        "        val_causal_mask = make_causal_mask(vt_batch_size, trg_seq_len).to(device)\n",
        "\n",
        "        for batch1, batch2 in zip(val_loader, val_loader_date):\n",
        "\n",
        "            x_val, y_val = batch1\n",
        "            x_val_date, y_val_date = batch2\n",
        "\n",
        "            x_val = x_val.to(device)\n",
        "            y_val = y_val.to(device)\n",
        "\n",
        "            x_val_date = x_val_date.to(device)\n",
        "            y_val_date = y_val_date.to(device)\n",
        "\n",
        "            model.eval()\n",
        "\n",
        "            val_enc = model.encoder(x_val, x_val_date)\n",
        "\n",
        "            dec_in = np.zeros((vt_batch_size, horizon, n_features))\n",
        "\n",
        "            dec_in = torch.from_numpy(dec_in).float()\n",
        "            dec_in = dec_in.to(device)\n",
        "\n",
        "            dec_in = torch.cat((x_val[:,-start_token:,:], dec_in), dim = 1)\n",
        "\n",
        "            dec_in = dec_in.to(device)\n",
        "\n",
        "            y_val_date = torch.cat((x_val_date[:,-start_token:,:], y_val_date), dim = 1)\n",
        "\n",
        "            outputs = model.decoder(dec_in, y_val_date, val_enc, val_causal_mask)\n",
        "\n",
        "            val_output = model.projection(outputs)\n",
        "\n",
        "            val_output = val_output[:, -horizon:, :]\n",
        "\n",
        "\n",
        "            val_loss = criterion(val_output, y_val[:,-horizon:,:]).item()\n",
        "            batch_mae = mae(val_output, y_val[:,-horizon:,:]).item()\n",
        "            batch_val_losses.append(val_loss)\n",
        "            batch_val_mae.append(batch_mae)\n",
        "\n",
        "    validation_loss = np.mean(batch_val_losses)\n",
        "    validation_losses.append(validation_loss)\n",
        "    validation_mae = np.mean(batch_val_mae)\n",
        "    if(epoch>warmup_steps):\n",
        "        scheduler.step()\n",
        "\n",
        "    #print(f\"[{epoch+1}] Validation loss: {validation_loss:.4f}\")\n",
        "    print(f\"[{epoch+1}] Training loss: {training_loss:.8f}\\t Validation loss: {validation_loss:.8f}\\t Validation MAE: {validation_mae:.8f}\")\n",
        "\n",
        "end_time = time.time()\n",
        "print(f\"Training time: {end_time - start_time}\")"
      ],
      "metadata": {
        "id": "Vu7MjsKqJV0o",
        "outputId": "0257dd88-340a-44db-c9fd-5b72443e61c9",
        "execution": {
          "iopub.status.busy": "2024-07-09T13:45:57.123715Z",
          "iopub.execute_input": "2024-07-09T13:45:57.124333Z",
          "iopub.status.idle": "2024-07-09T14:15:21.028437Z",
          "shell.execute_reply.started": "2024-07-09T13:45:57.124298Z",
          "shell.execute_reply": "2024-07-09T14:15:21.027427Z"
        },
        "trusted": true,
        "colab": {
          "base_uri": "https://localhost:8080/"
        }
      },
      "execution_count": null,
      "outputs": [
        {
          "output_type": "stream",
          "name": "stdout",
          "text": [
            "[1] Training loss: 0.26142216\t Validation loss: 0.43453045\t Validation MAE: 0.35458647\n",
            "[2] Training loss: 0.26198811\t Validation loss: 0.43116556\t Validation MAE: 0.35303874\n",
            "[3] Training loss: 0.25997946\t Validation loss: 0.43252854\t Validation MAE: 0.35456587\n",
            "[4] Training loss: 0.27091600\t Validation loss: 0.43501466\t Validation MAE: 0.35238962\n",
            "[5] Training loss: 0.25627874\t Validation loss: 0.41834187\t Validation MAE: 0.34557707\n",
            "[6] Training loss: 0.25985287\t Validation loss: 0.41679958\t Validation MAE: 0.34467817\n",
            "[7] Training loss: 0.25360878\t Validation loss: 0.41127489\t Validation MAE: 0.34082839\n",
            "[8] Training loss: 0.25721054\t Validation loss: 0.40768169\t Validation MAE: 0.33767310\n",
            "[9] Training loss: 0.25150773\t Validation loss: 0.40440184\t Validation MAE: 0.33522762\n",
            "[10] Training loss: 0.25452601\t Validation loss: 0.40053251\t Validation MAE: 0.33522068\n",
            "Training time: 369.130717754364\n"
          ]
        }
      ]
    },
    {
      "cell_type": "code",
      "source": [
        "plt.plot(training_losses, label='train_loss')\n",
        "plt.plot(validation_losses,label='val_loss')\n",
        "plt.legend()\n",
        "plt.show()"
      ],
      "metadata": {
        "id": "7-GI3j77zKZt",
        "colab": {
          "base_uri": "https://localhost:8080/",
          "height": 430
        },
        "outputId": "af764256-fe91-4618-fdf2-d95874b9e772"
      },
      "execution_count": null,
      "outputs": [
        {
          "output_type": "display_data",
          "data": {
            "text/plain": [
              "<Figure size 640x480 with 1 Axes>"
            ],
            "image/png": "[encoded data removed]"
          },
          "metadata": {}
        }
      ]
    },
    {
      "cell_type": "code",
      "source": [
        "with torch.no_grad():\n",
        "    batch_test_losses = []\n",
        "    test_mae_losses = []\n",
        "\n",
        "    test_causal_mask = make_causal_mask(vt_batch_size, trg_seq_len).to(device)\n",
        "\n",
        "    for batch1, batch2 in zip(test_loader, test_loader_date):\n",
        "\n",
        "        x_test, y_test = batch1\n",
        "        x_test_date, y_test_date = batch2\n",
        "\n",
        "        x_test = x_test.to(device)\n",
        "        y_test = y_test.to(device)\n",
        "\n",
        "        x_test_date = x_test_date.to(device)\n",
        "        y_test_date = y_test_date.to(device)\n",
        "\n",
        "        model.eval()\n",
        "\n",
        "        test_enc = model.encoder(x_test, x_test_date)\n",
        "\n",
        "        dec_in = np.zeros((vt_batch_size, horizon, n_features))\n",
        "\n",
        "        dec_in = torch.from_numpy(dec_in).float()\n",
        "        dec_in = dec_in.to(device)\n",
        "\n",
        "        dec_in = torch.cat((x_test[:,-start_token:,:], dec_in), dim = 1)\n",
        "\n",
        "        dec_in = dec_in.to(device)\n",
        "\n",
        "        y_test_date = torch.cat((x_test_date[:,-start_token:,:], y_test_date), dim = 1)\n",
        "\n",
        "        outputs = model.decoder(dec_in, y_test_date, test_enc, test_causal_mask)\n",
        "\n",
        "        test_output = model.projection(outputs)\n",
        "\n",
        "        test_output = test_output[:, -horizon:, :]\n",
        "\n",
        "        t_loss = criterion(test_output, y_test[:,-horizon:,:]).item()\n",
        "        batch_mae = mae(test_output, y_test[:,-horizon:,:]).item()\n",
        "        batch_test_losses.append(t_loss)\n",
        "        test_mae_losses.append(batch_mae)\n",
        "\n",
        "\n",
        "    test_loss = np.mean(batch_test_losses)\n",
        "    test_mae = np.mean(test_mae_losses)\n",
        "    rse_loss = np.sqrt(test_loss)/standard_deviation\n",
        "\n",
        "    #print(f\"[{epoch+1}] Validation loss: {validation_loss:.4f}\")\n",
        "\n",
        "print(f\"[{epoch+1}] Test loss: {test_loss:.8f}\\t MAE loss:{test_mae:0.8f}\\t  RSE loss: {rse_loss:.8f}\")"
      ],
      "metadata": {
        "id": "Sh3sRZ3iLEef",
        "execution": {
          "iopub.status.busy": "2024-07-09T14:16:18.423473Z",
          "iopub.execute_input": "2024-07-09T14:16:18.423856Z",
          "iopub.status.idle": "2024-07-09T14:16:19.165966Z",
          "shell.execute_reply.started": "2024-07-09T14:16:18.423827Z",
          "shell.execute_reply": "2024-07-09T14:16:19.164957Z"
        },
        "trusted": true,
        "colab": {
          "base_uri": "https://localhost:8080/"
        },
        "outputId": "01f90307-a3f6-4fb2-ef67-49972e32deb9"
      },
      "execution_count": null,
      "outputs": [
        {
          "output_type": "stream",
          "name": "stdout",
          "text": [
            "[10] Test loss: 0.61224513\t MAE loss:0.42165401\t  RSE loss: 0.70817387\n"
          ]
        }
      ]
    },
    {
      "cell_type": "code",
      "source": [
        "print(scheduler.get_last_lr())"
      ],
      "metadata": {
        "colab": {
          "base_uri": "https://localhost:8080/"
        },
        "id": "1T22AjYbq97z",
        "outputId": "2afcbded-171c-40a3-9506-386a74bf7bd1"
      },
      "execution_count": null,
      "outputs": [
        {
          "output_type": "stream",
          "name": "stdout",
          "text": [
            "[0.0001]\n"
          ]
        }
      ]
    },
    {
      "cell_type": "code",
      "source": [
        "# Define the path for saving the model\n",
        "save_path = \"/content/drive/MyDrive/folder/traffic96.pth\"\n",
        "\n",
        "# Save the model's state_dict to the specified path\n",
        "torch.save(model.state_dict(), save_path)\n",
        "\n",
        "# Calculate and print the size of the saved model on disk\n",
        "import os\n",
        "model_size = os.path.getsize(save_path)\n",
        "print(f\"Size of the model on disk: {model_size / (1024 * 1024):.2f} MB\")"
      ],
      "metadata": {
        "colab": {
          "base_uri": "https://localhost:8080/"
        },
        "id": "Ktlrpm1JYnJA",
        "outputId": "68003e0d-7554-43f1-b56e-ce34c6e5524a"
      },
      "execution_count": null,
      "outputs": [
        {
          "output_type": "stream",
          "name": "stdout",
          "text": [
            "Size of the model on disk: 13.81 MB\n"
          ]
        }
      ]
    },
    {
      "cell_type": "code",
      "source": [
        "state_dict = torch.load('checkpoint.pth')\n",
        "print(state_dict.keys())"
      ],
      "metadata": {
        "id": "vyLZAN0TmXFk",
        "execution": {
          "iopub.status.busy": "2024-07-09T14:15:21.767292Z",
          "iopub.execute_input": "2024-07-09T14:15:21.767669Z",
          "iopub.status.idle": "2024-07-09T14:15:21.798198Z",
          "shell.execute_reply.started": "2024-07-09T14:15:21.767615Z",
          "shell.execute_reply": "2024-07-09T14:15:21.797338Z"
        },
        "trusted": true,
        "colab": {
          "base_uri": "https://localhost:8080/",
          "height": 299
        },
        "outputId": "dc06ea13-de64-4cf9-91f3-b857d3e2b37e"
      },
      "execution_count": null,
      "outputs": [
        {
          "output_type": "error",
          "ename": "FileNotFoundError",
          "evalue": "[Errno 2] No such file or directory: 'checkpoint.pth'",
          "traceback": [
            "\u001b[0;31m---------------------------------------------------------------------------\u001b[0m",
            "\u001b[0;31mFileNotFoundError\u001b[0m                         Traceback (most recent call last)",
            "\u001b[0;32m<ipython-input-46-89efed10bf1a>\u001b[0m in \u001b[0;36m<cell line: 1>\u001b[0;34m()\u001b[0m\n\u001b[0;32m----> 1\u001b[0;31m \u001b[0mstate_dict\u001b[0m \u001b[0;34m=\u001b[0m \u001b[0mtorch\u001b[0m\u001b[0;34m.\u001b[0m\u001b[0mload\u001b[0m\u001b[0;34m(\u001b[0m\u001b[0;34m'checkpoint.pth'\u001b[0m\u001b[0;34m)\u001b[0m\u001b[0;34m\u001b[0m\u001b[0;34m\u001b[0m\u001b[0m\n\u001b[0m\u001b[1;32m      2\u001b[0m \u001b[0mprint\u001b[0m\u001b[0;34m(\u001b[0m\u001b[0mstate_dict\u001b[0m\u001b[0;34m.\u001b[0m\u001b[0mkeys\u001b[0m\u001b[0;34m(\u001b[0m\u001b[0;34m)\u001b[0m\u001b[0;34m)\u001b[0m\u001b[0;34m\u001b[0m\u001b[0;34m\u001b[0m\u001b[0m\n",
            "\u001b[0;32m/usr/local/lib/python3.10/dist-packages/torch/serialization.py\u001b[0m in \u001b[0;36mload\u001b[0;34m(f, map_location, pickle_module, weights_only, mmap, **pickle_load_args)\u001b[0m\n\u001b[1;32m    995\u001b[0m         \u001b[0mpickle_load_args\u001b[0m\u001b[0;34m[\u001b[0m\u001b[0;34m'encoding'\u001b[0m\u001b[0;34m]\u001b[0m \u001b[0;34m=\u001b[0m \u001b[0;34m'utf-8'\u001b[0m\u001b[0;34m\u001b[0m\u001b[0;34m\u001b[0m\u001b[0m\n\u001b[1;32m    996\u001b[0m \u001b[0;34m\u001b[0m\u001b[0m\n\u001b[0;32m--> 997\u001b[0;31m     \u001b[0;32mwith\u001b[0m \u001b[0m_open_file_like\u001b[0m\u001b[0;34m(\u001b[0m\u001b[0mf\u001b[0m\u001b[0;34m,\u001b[0m \u001b[0;34m'rb'\u001b[0m\u001b[0;34m)\u001b[0m \u001b[0;32mas\u001b[0m \u001b[0mopened_file\u001b[0m\u001b[0;34m:\u001b[0m\u001b[0;34m\u001b[0m\u001b[0;34m\u001b[0m\u001b[0m\n\u001b[0m\u001b[1;32m    998\u001b[0m         \u001b[0;32mif\u001b[0m \u001b[0m_is_zipfile\u001b[0m\u001b[0;34m(\u001b[0m\u001b[0mopened_file\u001b[0m\u001b[0;34m)\u001b[0m\u001b[0;34m:\u001b[0m\u001b[0;34m\u001b[0m\u001b[0;34m\u001b[0m\u001b[0m\n\u001b[1;32m    999\u001b[0m             \u001b[0;31m# The zipfile reader is going to advance the current file position.\u001b[0m\u001b[0;34m\u001b[0m\u001b[0;34m\u001b[0m\u001b[0m\n",
            "\u001b[0;32m/usr/local/lib/python3.10/dist-packages/torch/serialization.py\u001b[0m in \u001b[0;36m_open_file_like\u001b[0;34m(name_or_buffer, mode)\u001b[0m\n\u001b[1;32m    442\u001b[0m \u001b[0;32mdef\u001b[0m \u001b[0m_open_file_like\u001b[0m\u001b[0;34m(\u001b[0m\u001b[0mname_or_buffer\u001b[0m\u001b[0;34m,\u001b[0m \u001b[0mmode\u001b[0m\u001b[0;34m)\u001b[0m\u001b[0;34m:\u001b[0m\u001b[0;34m\u001b[0m\u001b[0;34m\u001b[0m\u001b[0m\n\u001b[1;32m    443\u001b[0m     \u001b[0;32mif\u001b[0m \u001b[0m_is_path\u001b[0m\u001b[0;34m(\u001b[0m\u001b[0mname_or_buffer\u001b[0m\u001b[0;34m)\u001b[0m\u001b[0;34m:\u001b[0m\u001b[0;34m\u001b[0m\u001b[0;34m\u001b[0m\u001b[0m\n\u001b[0;32m--> 444\u001b[0;31m         \u001b[0;32mreturn\u001b[0m \u001b[0m_open_file\u001b[0m\u001b[0;34m(\u001b[0m\u001b[0mname_or_buffer\u001b[0m\u001b[0;34m,\u001b[0m \u001b[0mmode\u001b[0m\u001b[0;34m)\u001b[0m\u001b[0;34m\u001b[0m\u001b[0;34m\u001b[0m\u001b[0m\n\u001b[0m\u001b[1;32m    445\u001b[0m     \u001b[0;32melse\u001b[0m\u001b[0;34m:\u001b[0m\u001b[0;34m\u001b[0m\u001b[0;34m\u001b[0m\u001b[0m\n\u001b[1;32m    446\u001b[0m         \u001b[0;32mif\u001b[0m \u001b[0;34m'w'\u001b[0m \u001b[0;32min\u001b[0m \u001b[0mmode\u001b[0m\u001b[0;34m:\u001b[0m\u001b[0;34m\u001b[0m\u001b[0;34m\u001b[0m\u001b[0m\n",
            "\u001b[0;32m/usr/local/lib/python3.10/dist-packages/torch/serialization.py\u001b[0m in \u001b[0;36m__init__\u001b[0;34m(self, name, mode)\u001b[0m\n\u001b[1;32m    423\u001b[0m \u001b[0;32mclass\u001b[0m \u001b[0m_open_file\u001b[0m\u001b[0;34m(\u001b[0m\u001b[0m_opener\u001b[0m\u001b[0;34m)\u001b[0m\u001b[0;34m:\u001b[0m\u001b[0;34m\u001b[0m\u001b[0;34m\u001b[0m\u001b[0m\n\u001b[1;32m    424\u001b[0m     \u001b[0;32mdef\u001b[0m \u001b[0m__init__\u001b[0m\u001b[0;34m(\u001b[0m\u001b[0mself\u001b[0m\u001b[0;34m,\u001b[0m \u001b[0mname\u001b[0m\u001b[0;34m,\u001b[0m \u001b[0mmode\u001b[0m\u001b[0;34m)\u001b[0m\u001b[0;34m:\u001b[0m\u001b[0;34m\u001b[0m\u001b[0;34m\u001b[0m\u001b[0m\n\u001b[0;32m--> 425\u001b[0;31m         \u001b[0msuper\u001b[0m\u001b[0;34m(\u001b[0m\u001b[0;34m)\u001b[0m\u001b[0;34m.\u001b[0m\u001b[0m__init__\u001b[0m\u001b[0;34m(\u001b[0m\u001b[0mopen\u001b[0m\u001b[0;34m(\u001b[0m\u001b[0mname\u001b[0m\u001b[0;34m,\u001b[0m \u001b[0mmode\u001b[0m\u001b[0;34m)\u001b[0m\u001b[0;34m)\u001b[0m\u001b[0;34m\u001b[0m\u001b[0;34m\u001b[0m\u001b[0m\n\u001b[0m\u001b[1;32m    426\u001b[0m \u001b[0;34m\u001b[0m\u001b[0m\n\u001b[1;32m    427\u001b[0m     \u001b[0;32mdef\u001b[0m \u001b[0m__exit__\u001b[0m\u001b[0;34m(\u001b[0m\u001b[0mself\u001b[0m\u001b[0;34m,\u001b[0m \u001b[0;34m*\u001b[0m\u001b[0margs\u001b[0m\u001b[0;34m)\u001b[0m\u001b[0;34m:\u001b[0m\u001b[0;34m\u001b[0m\u001b[0;34m\u001b[0m\u001b[0m\n",
            "\u001b[0;31mFileNotFoundError\u001b[0m: [Errno 2] No such file or directory: 'checkpoint.pth'"
          ]
        }
      ]
    }
  ]
}